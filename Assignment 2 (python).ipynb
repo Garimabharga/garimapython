{
 "cells": [
  {
   "cell_type": "markdown",
   "metadata": {},
   "source": [
    "# To show the use of loops?"
   ]
  },
  {
   "cell_type": "code",
   "execution_count": 1,
   "metadata": {},
   "outputs": [
    {
     "name": "stdout",
     "output_type": "stream",
     "text": [
      "red\n",
      "green\n",
      "pink\n",
      "black\n",
      "r\n",
      "e\n",
      "d\n"
     ]
    }
   ],
   "source": [
    "#iterate through a list\n",
    "colors = [\"red\",\"green\",\"pink\",\"black\"]\n",
    "for x in colors:\n",
    "    print(x)\n",
    "#iterate through a string\n",
    "s = \"red\"\n",
    "for x in s:\n",
    "    print(x)"
   ]
  },
  {
   "cell_type": "markdown",
   "metadata": {},
   "source": [
    "# break statement in a loop"
   ]
  },
  {
   "cell_type": "code",
   "execution_count": 2,
   "metadata": {},
   "outputs": [
    {
     "name": "stdout",
     "output_type": "stream",
     "text": [
      "red\n",
      "green\n"
     ]
    }
   ],
   "source": [
    "colors = [\"red\",\"green\",\"pink\",\"black\"]\n",
    "for x in colors:\n",
    "    print(x)\n",
    "    if x == \"green\":\n",
    "        break"
   ]
  },
  {
   "cell_type": "markdown",
   "metadata": {},
   "source": [
    "#Continue Statement in for Loop"
   ]
  },
  {
   "cell_type": "code",
   "execution_count": 3,
   "metadata": {},
   "outputs": [
    {
     "name": "stdout",
     "output_type": "stream",
     "text": [
      "red\n",
      "green\n",
      "pink\n",
      "black\n"
     ]
    }
   ],
   "source": [
    "colors = [\"red\",\"green\",\"pink\",\"black\"]\n",
    "for x in colors:\n",
    "    print(x)\n",
    "    if x == \"green\":\n",
    "        continue"
   ]
  },
  {
   "cell_type": "markdown",
   "metadata": {},
   "source": [
    "#The Range() Function"
   ]
  },
  {
   "cell_type": "code",
   "execution_count": 4,
   "metadata": {},
   "outputs": [
    {
     "name": "stdout",
     "output_type": "stream",
     "text": [
      "0\n",
      "[2, 3, 4, 5, 6, 7]\n",
      "1\n",
      "[2, 3, 4, 5, 6, 7]\n",
      "2\n",
      "[2, 3, 4, 5, 6, 7]\n",
      "3\n",
      "[2, 3, 4, 5, 6, 7]\n",
      "4\n",
      "[2, 3, 4, 5, 6, 7]\n"
     ]
    }
   ],
   "source": [
    "for x in range(5):\n",
    "    print(x)\n",
    "    print(list(range(2,8)))"
   ]
  },
  {
   "cell_type": "markdown",
   "metadata": {},
   "source": [
    "#Else in for Loop"
   ]
  },
  {
   "cell_type": "code",
   "execution_count": 6,
   "metadata": {},
   "outputs": [
    {
     "name": "stdout",
     "output_type": "stream",
     "text": [
      "red\n",
      "green\n",
      "pink\n",
      "black\n",
      "Done!!\n"
     ]
    }
   ],
   "source": [
    "colors = [\"red\",\"green\",\"pink\",\"black\"]\n",
    "for x in colors:\n",
    "    print(x)\n",
    "else:\n",
    "        print(\"Done!!\")"
   ]
  },
  {
   "cell_type": "markdown",
   "metadata": {},
   "source": [
    "#Nested Loops"
   ]
  },
  {
   "cell_type": "code",
   "execution_count": 7,
   "metadata": {},
   "outputs": [
    {
     "name": "stdout",
     "output_type": "stream",
     "text": [
      "yellow mango\n",
      "yellow apple\n",
      "yellow orange\n",
      "black mango\n",
      "black apple\n",
      "black orange\n",
      "red mango\n",
      "red apple\n",
      "red orange\n",
      "pink mango\n",
      "pink apple\n",
      "pink orange\n"
     ]
    }
   ],
   "source": [
    "colors = [\"yellow\",\"black\",\"red\",\"pink\"]\n",
    "fruits = ['mango','apple','orange']\n",
    "for x in colors:\n",
    "    for y in fruits:\n",
    "        print(x,y)"
   ]
  },
  {
   "cell_type": "markdown",
   "metadata": {},
   "source": [
    "#Looping Through Multiple Lists"
   ]
  },
  {
   "cell_type": "code",
   "execution_count": 8,
   "metadata": {},
   "outputs": [
    {
     "name": "stdout",
     "output_type": "stream",
     "text": [
      "1\n",
      "2\n",
      "3\n",
      "4\n",
      "5\n",
      "6\n"
     ]
    }
   ],
   "source": [
    "from array import*\n",
    "array1 = array('i',[1,2,3,4,5,6])\n",
    "for x in array1:\n",
    "    print(x)"
   ]
  },
  {
   "cell_type": "markdown",
   "metadata": {},
   "source": [
    "# Ques2> working with strings operations?"
   ]
  },
  {
   "cell_type": "markdown",
   "metadata": {},
   "source": [
    "#Assignment Operator “=.”"
   ]
  },
  {
   "cell_type": "code",
   "execution_count": 9,
   "metadata": {},
   "outputs": [
    {
     "name": "stdout",
     "output_type": "stream",
     "text": [
      "garima\n",
      "hello\n",
      "hello\n"
     ]
    }
   ],
   "source": [
    "string1 = \"garima\"\n",
    "string2 = 'hello'\n",
    "string3 = '''hello'''\n",
    "print(string1)\n",
    "print(string2)\n",
    "print(string3)"
   ]
  },
  {
   "cell_type": "markdown",
   "metadata": {},
   "source": [
    "#Concatenate Operator “+.”"
   ]
  },
  {
   "cell_type": "code",
   "execution_count": 10,
   "metadata": {},
   "outputs": [
    {
     "name": "stdout",
     "output_type": "stream",
     "text": [
      "garimabhargava \n"
     ]
    }
   ],
   "source": [
    "string1 = \"garima\"\n",
    "string2 = \"bhargava \"\n",
    "string_combined = string1+string2\n",
    "print(string_combined)"
   ]
  },
  {
   "cell_type": "markdown",
   "metadata": {},
   "source": [
    "#String Repetition Operator “*.”"
   ]
  },
  {
   "cell_type": "code",
   "execution_count": 11,
   "metadata": {},
   "outputs": [
    {
     "name": "stdout",
     "output_type": "stream",
     "text": [
      "helloworld helloworld \n",
      "helloworld helloworld helloworld \n",
      "helloworld helloworld helloworld helloworld \n",
      "helloworld helloworld helloworld helloworld helloworld \n"
     ]
    }
   ],
   "source": [
    "string1 = \"helloworld \"\n",
    "print(string1*2)\n",
    "print(string1*3)\n",
    "print(string1*4)\n",
    "print(string1*5)"
   ]
  },
  {
   "cell_type": "markdown",
   "metadata": {},
   "source": [
    "# String slicing operator “[]”"
   ]
  },
  {
   "cell_type": "code",
   "execution_count": 12,
   "metadata": {},
   "outputs": [
    {
     "name": "stdout",
     "output_type": "stream",
     "text": [
      "e\n",
      "r\n",
      "ello\n",
      "ellowo\n",
      "lloworld\n",
      "hello\n",
      "hellowor\n",
      "ld\n",
      "dlrowolleh\n"
     ]
    }
   ],
   "source": [
    "string1 = \"helloworld\"\n",
    "print(string1[1])\n",
    "print(string1[-3])\n",
    "print(string1[1:5])\n",
    "print(string1[1:-3])\n",
    "print(string1[2:])\n",
    "print(string1[:5])\n",
    "print(string1[:-2])\n",
    "print(string1[-2:])\n",
    "print(string1[::-1])"
   ]
  },
  {
   "cell_type": "markdown",
   "metadata": {},
   "source": [
    "#String Comparison Operator “==” & “!=”"
   ]
  },
  {
   "cell_type": "code",
   "execution_count": 13,
   "metadata": {},
   "outputs": [
    {
     "name": "stdout",
     "output_type": "stream",
     "text": [
      "False\n",
      "True\n",
      "True\n",
      "False\n"
     ]
    }
   ],
   "source": [
    "string1 = \"hello\"\n",
    "string2 = \"hello, world\"\n",
    "string3 = \"hello, world\"\n",
    "string4 = \"world\"\n",
    "print(string1==string4)\n",
    "print(string2==string3)\n",
    "print(string1!=string4)\n",
    "print(string2!=string3)"
   ]
  },
  {
   "cell_type": "markdown",
   "metadata": {},
   "source": [
    "#Membership Operator “in” & “not in”"
   ]
  },
  {
   "cell_type": "code",
   "execution_count": 15,
   "metadata": {},
   "outputs": [
    {
     "name": "stdout",
     "output_type": "stream",
     "text": [
      "True\n",
      "False\n",
      "False\n",
      "True\n",
      "True\n",
      "False\n",
      "False\n"
     ]
    }
   ],
   "source": [
    "string1 = \"helloworld\"\n",
    "print(\"w\" in string1)\n",
    "print(\"W\" in string1)\n",
    "print(\"t\" in string1)\n",
    "print(\"t\" not in string1)\n",
    "print(\"hello\" in string1)\n",
    "print(\"Hello\" in string1)\n",
    "print(\"hello\" not in string1)"
   ]
  },
  {
   "cell_type": "markdown",
   "metadata": {},
   "source": [
    "#String Formatting Operator “%.”"
   ]
  },
  {
   "cell_type": "code",
   "execution_count": 17,
   "metadata": {},
   "outputs": [
    {
     "name": "stdout",
     "output_type": "stream",
     "text": [
      "Hey garima\n",
      "my age is 22\n",
      "Hey garima, my age is 22\n",
      "Hey garima, my subject mark is 20.560000\n"
     ]
    }
   ],
   "source": [
    "name = \"garima\"\n",
    "age = 22\n",
    "marks = 20.56\n",
    "string1 = 'Hey %s' % (name)\n",
    "print(string1)\n",
    "string2 = 'my age is %d' % (age)\n",
    "print(string2)\n",
    "string3= 'Hey %s, my age is %d' % (name, age)\n",
    "print(string3)\n",
    "string3= 'Hey %s, my subject mark is %f' % (name, marks)\n",
    "print(string3)"
   ]
  },
  {
   "cell_type": "markdown",
   "metadata": {},
   "source": [
    "# Ques3> To perform operations on list?"
   ]
  },
  {
   "cell_type": "code",
   "execution_count": 18,
   "metadata": {},
   "outputs": [
    {
     "name": "stdout",
     "output_type": "stream",
     "text": [
      "['John', 'Marie', 'Mark', 'John', 'Sarah']\n",
      "[4, 8, 15, 16, 23, 42]\n"
     ]
    }
   ],
   "source": [
    "#initialize a list\n",
    "people = ['John', 'Marie', 'Mark', 'John', \"Sarah\"]\n",
    "numbers = [4, 8, 15, 16, 23, 42]\n",
    "\n",
    "print(people)\n",
    "print(numbers)"
   ]
  },
  {
   "cell_type": "code",
   "execution_count": 19,
   "metadata": {},
   "outputs": [
    {
     "name": "stdout",
     "output_type": "stream",
     "text": [
      "['John', 'Marie', 'Mark', 'John', 'Sarah']\n",
      "John\n",
      "Marie\n"
     ]
    }
   ],
   "source": [
    "#Fatch item from a list\n",
    "people = ['John', 'Marie', 'Mark', 'John', \"Sarah\"]\n",
    "print(people)\n",
    "\n",
    "firstPerson = people[0]\n",
    "secondPerson = people[1]\n",
    "print(firstPerson)\n",
    "print(secondPerson)"
   ]
  },
  {
   "cell_type": "code",
   "execution_count": 20,
   "metadata": {},
   "outputs": [
    {
     "name": "stdout",
     "output_type": "stream",
     "text": [
      "['John', 'Marie', 'Mark', 'John', 'Sarah']\n",
      "5\n"
     ]
    }
   ],
   "source": [
    "#number of items\n",
    "people = ['John', 'Marie', 'Mark', 'John', \"Sarah\"]\n",
    "print(people)\n",
    "\n",
    "numOfpeople = len(people)\n",
    "print(numOfpeople)"
   ]
  },
  {
   "cell_type": "code",
   "execution_count": 21,
   "metadata": {},
   "outputs": [
    {
     "name": "stdout",
     "output_type": "stream",
     "text": [
      "['John', 'Marie', 'Mark', 'John', 'Sarah', 'Sean']\n"
     ]
    }
   ],
   "source": [
    "#add new item to list\n",
    "people.append(\"Sean\")\n",
    "print(people)"
   ]
  },
  {
   "cell_type": "code",
   "execution_count": 22,
   "metadata": {},
   "outputs": [
    {
     "name": "stdout",
     "output_type": "stream",
     "text": [
      "['dog', 'cat', 'bear', 'mink']\n",
      "['John', 'Marie', 'Mark', 'John', 'Sarah', 'Sean', 'dog', 'cat', 'bear', 'mink']\n"
     ]
    }
   ],
   "source": [
    "#add/append multiple item lists\n",
    "animals = [\"dog\", \"cat\", \"bear\", \"mink\"]\n",
    "print(animals)\n",
    "peopleAndAnimals = people + animals\n",
    "print(peopleAndAnimals)"
   ]
  },
  {
   "cell_type": "code",
   "execution_count": 23,
   "metadata": {},
   "outputs": [
    {
     "name": "stdout",
     "output_type": "stream",
     "text": [
      "True\n"
     ]
    }
   ],
   "source": [
    "#to check if item exists\n",
    "print(animals.__contains__(\"dog\"))"
   ]
  },
  {
   "cell_type": "code",
   "execution_count": 24,
   "metadata": {},
   "outputs": [
    {
     "name": "stdout",
     "output_type": "stream",
     "text": [
      "['dog', 'cat', 'bear', 'mink']\n",
      "['dog', 'cat', 'bear']\n",
      "mink\n"
     ]
    }
   ],
   "source": [
    "#remove an item from a lists\n",
    "print(animals)\n",
    "lastAnimal = animals.pop()\n",
    "print(animals)\n",
    "print(lastAnimal)"
   ]
  },
  {
   "cell_type": "code",
   "execution_count": 25,
   "metadata": {},
   "outputs": [
    {
     "name": "stdout",
     "output_type": "stream",
     "text": [
      "['John', 'Marie', 'Mark', 'John', 'Sarah']\n",
      "['John', 'Mark', 'John', 'Sarah']\n"
     ]
    }
   ],
   "source": [
    "#using del\n",
    "people = ['John', 'Marie', 'Mark', 'John', \"Sarah\"]\n",
    "print(people)\n",
    "del people[1]\n",
    "print(people)"
   ]
  },
  {
   "cell_type": "code",
   "execution_count": 26,
   "metadata": {},
   "outputs": [
    {
     "name": "stdout",
     "output_type": "stream",
     "text": [
      "The people in the list are : ['John', 'Marie', 'Mark', 'John', 'Sarah']\n"
     ]
    }
   ],
   "source": [
    "#convert lists into strings\n",
    "people = ['John', 'Marie', 'Mark', 'John', \"Sarah\"]\n",
    "print(\"The people in the list are : \" + str(people))"
   ]
  },
  {
   "cell_type": "code",
   "execution_count": 27,
   "metadata": {},
   "outputs": [
    {
     "name": "stdout",
     "output_type": "stream",
     "text": [
      "['John', 'Marie', 'Mark', 'John', 'Sarah']\n",
      "{'John', 'Sarah', 'Mark', 'Marie'}\n"
     ]
    }
   ],
   "source": [
    "#covert list into set\n",
    "people = ['John', 'Marie', 'Mark', 'John', \"Sarah\"]\n",
    "print(people)\n",
    "peopleSet = set(people)\n",
    "print(peopleSet)"
   ]
  },
  {
   "cell_type": "code",
   "execution_count": 28,
   "metadata": {},
   "outputs": [
    {
     "name": "stdout",
     "output_type": "stream",
     "text": [
      "list is empty\n"
     ]
    }
   ],
   "source": [
    "#list is empety\n",
    "\n",
    "myList = []\n",
    "\n",
    "if myList:\n",
    "    print(\"List is not empty\")\n",
    "else:\n",
    "    print(\"list is empty\")"
   ]
  },
  {
   "cell_type": "code",
   "execution_count": null,
   "metadata": {},
   "outputs": [],
   "source": []
  }
 ],
 "metadata": {
  "kernelspec": {
   "display_name": "Python 3",
   "language": "python",
   "name": "python3"
  },
  "language_info": {
   "codemirror_mode": {
    "name": "ipython",
    "version": 3
   },
   "file_extension": ".py",
   "mimetype": "text/x-python",
   "name": "python",
   "nbconvert_exporter": "python",
   "pygments_lexer": "ipython3",
   "version": "3.8.5"
  }
 },
 "nbformat": 4,
 "nbformat_minor": 4
}
