{
 "cells": [
  {
   "cell_type": "markdown",
   "metadata": {},
   "source": [
    "#Take input from user some words and generate a complex password using random method, password length must be 11 characters.?"
   ]
  },
  {
   "cell_type": "code",
   "execution_count": 3,
   "metadata": {},
   "outputs": [
    {
     "name": "stdout",
     "output_type": "stream",
     "text": [
      "hello, Welcome to complax Password !\n",
      "\n",
      "Enter the length of password: 16\n",
      "ja.}kys*'5$JUfPd\n"
     ]
    }
   ],
   "source": [
    "import random\n",
    "import string\n",
    "print('hello, Welcome to complax Password !')\n",
    "length = int(input('\\nEnter the length of password: '))\n",
    "lower = string.ascii_lowercase\n",
    "upper = string.ascii_uppercase\n",
    "num = string.digits\n",
    "symbols = string.punctuation\n",
    "all = lower + upper + num + symbols\n",
    "temp = random.sample(all,length)\n",
    "password = \"\".join(temp)\n",
    "all = string.ascii_letters + string.digits + string.punctuation\n",
    "print(password)"
   ]
  },
  {
   "cell_type": "code",
   "execution_count": null,
   "metadata": {},
   "outputs": [],
   "source": []
  },
  {
   "cell_type": "code",
   "execution_count": null,
   "metadata": {},
   "outputs": [],
   "source": []
  }
 ],
 "metadata": {
  "kernelspec": {
   "display_name": "Python 3",
   "language": "python",
   "name": "python3"
  },
  "language_info": {
   "codemirror_mode": {
    "name": "ipython",
    "version": 3
   },
   "file_extension": ".py",
   "mimetype": "text/x-python",
   "name": "python",
   "nbconvert_exporter": "python",
   "pygments_lexer": "ipython3",
   "version": "3.8.5"
  }
 },
 "nbformat": 4,
 "nbformat_minor": 4
}
