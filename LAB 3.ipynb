{
 "cells": [
  {
   "cell_type": "markdown",
   "metadata": {},
   "source": [
    "#To perform operations on tuple."
   ]
  },
  {
   "cell_type": "code",
   "execution_count": 1,
   "metadata": {},
   "outputs": [
    {
     "name": "stdout",
     "output_type": "stream",
     "text": [
      "(1, [9, 8, 7], 'World')\n",
      "(1, [9, 8, 99], 'World')\n"
     ]
    }
   ],
   "source": [
    "#Changing the elements of a tuples\n",
    "my_data = (1, [9, 8, 7], \"World\")\n",
    "print(my_data)\n",
    "\n",
    "# changing the element of the list\n",
    "# this is valid because list is mutable\n",
    "my_data[1][2] = 99\n",
    "print(my_data)\n",
    "\n",
    "# changing the element of tuple\n",
    "# This is not valid since tuple elements are immutable\n",
    "# TypeError: 'tuple' object does not support item assignment\n",
    "# my_data[0] = 101\n",
    "# print(my_data)"
   ]
  },
  {
   "cell_type": "code",
   "execution_count": 2,
   "metadata": {},
   "outputs": [
    {
     "name": "stdout",
     "output_type": "stream",
     "text": [
      "(1, 2, 3, 4, 5, 6)\n"
     ]
    }
   ],
   "source": [
    "#Delete the Operation on tuple\n",
    "my_data = (1, 2, 3, 4, 5, 6)\n",
    "print(my_data)\n",
    "\n",
    "# not possible\n",
    "# error\n",
    "# del my_data[2]\n",
    "\n",
    "# deleting entire tuple is possible\n",
    "del my_data\n",
    "\n",
    "# not possible\n",
    "# error\n",
    "# because my_data is deleted\n",
    "# print(my_data)"
   ]
  },
  {
   "cell_type": "code",
   "execution_count": 3,
   "metadata": {},
   "outputs": [
    {
     "name": "stdout",
     "output_type": "stream",
     "text": [
      "(11, 22, 33, 44, 55, 66, 77, 88, 99)\n",
      "(33, 44, 55)\n",
      "(11, 22, 33, 44)\n",
      "(55, 66, 77, 88, 99)\n",
      "(55, 66, 77, 88)\n",
      "(11, 22, 33, 44, 55, 66, 77, 88, 99)\n"
     ]
    }
   ],
   "source": [
    "#Slicing operation in tuples\n",
    "my_data = (11, 22, 33, 44, 55, 66, 77, 88, 99)\n",
    "print(my_data)\n",
    "\n",
    "# elements from 3rd to 5th\n",
    "# prints (33, 44, 55)\n",
    "print(my_data[2:5])\n",
    "\n",
    "# elements from start to 4th\n",
    "# prints (11, 22, 33, 44)\n",
    "print(my_data[:4])\n",
    "\n",
    "# elements from 5th to end\n",
    "# prints (55, 66, 77, 88, 99)\n",
    "print(my_data[4:])\n",
    "\n",
    "# elements from 5th to second last\n",
    "# prints (55, 66, 77, 88)\n",
    "print(my_data[4:-1])\n",
    "\n",
    "# displaying entire tuple\n",
    "print(my_data[:])"
   ]
  },
  {
   "cell_type": "code",
   "execution_count": 4,
   "metadata": {},
   "outputs": [
    {
     "name": "stdout",
     "output_type": "stream",
     "text": [
      "(11, 22, 33, 44, 55, 66, 77, 88, 99)\n",
      "True\n",
      "False\n",
      "False\n",
      "True\n"
     ]
    }
   ],
   "source": [
    "#Membership test in tuples\n",
    "my_data = (11, 22, 33, 44, 55, 66, 77, 88, 99)\n",
    "print(my_data)\n",
    "\n",
    "# true\n",
    "print(22 in my_data)\n",
    "\n",
    "# false\n",
    "print(2 in my_data)\n",
    "\n",
    "# false\n",
    "print(88 not in my_data)\n",
    "\n",
    "# true\n",
    "print(101 not in my_data)"
   ]
  },
  {
   "cell_type": "code",
   "execution_count": 5,
   "metadata": {},
   "outputs": [
    {
     "name": "stdout",
     "output_type": "stream",
     "text": [
      "Apple\n",
      "Orange\n",
      "Grapes\n",
      "Banana\n"
     ]
    }
   ],
   "source": [
    "#Iterating a tuple\n",
    "# tuple of fruits\n",
    "my_tuple = (\"Apple\", \"Orange\", \"Grapes\", \"Banana\")\n",
    "\n",
    "# iterating over tuple elements\n",
    "for fruit in my_tuple:\n",
    "     print(fruit)"
   ]
  },
  {
   "cell_type": "markdown",
   "metadata": {},
   "source": [
    "#To perform operations on dictionary."
   ]
  },
  {
   "cell_type": "code",
   "execution_count": 9,
   "metadata": {},
   "outputs": [
    {
     "name": "stdout",
     "output_type": "stream",
     "text": [
      "The original dictionary : {'gfg': 6, 'is': 4, 'best': 7}\n",
      "The dictionary after triple each key's value : {'gfg': 18, 'is': 12, 'best': 21}\n"
     ]
    }
   ],
   "source": [
    "#using loop\n",
    "\n",
    "# Python3 code to demonstrate working of \n",
    "# Perform operation on each key dictionary \n",
    "# Using loop \n",
    "\n",
    "  \n",
    "# Initialize dictionary \n",
    "\n",
    "test_dict = {'gfg' : 6, 'is' : 4, 'best' : 7} \n",
    "\n",
    "  \n",
    "# printing original dictionary \n",
    "\n",
    "print(\"The original dictionary : \" +  str(test_dict)) \n",
    "\n",
    "  \n",
    "# Using loop \n",
    "# Perform operation on each key dictionary \n",
    "\n",
    "for key in test_dict:     \n",
    "\n",
    "    test_dict[key] *= 3\n",
    "\n",
    "  \n",
    "# printing result  \n",
    "print(\"The dictionary after triple each key's value : \" + str(test_dict))"
   ]
  },
  {
   "cell_type": "code",
   "execution_count": 10,
   "metadata": {},
   "outputs": [
    {
     "name": "stdout",
     "output_type": "stream",
     "text": [
      "The original dictionary : {'gfg': 6, 'is': 4, 'best': 7}\n",
      "The dictionary after triple each key's value : {'gfg': 18, 'is': 12, 'best': 21}\n"
     ]
    }
   ],
   "source": [
    "#Using Update\n",
    "# Python3 code to demonstrate working of \n",
    "# Perform operation on each key dictionary \n",
    "# Using update() + dictionary comprehension \n",
    "\n",
    "  \n",
    "# Initialize dictionary \n",
    "\n",
    "test_dict = {'gfg' : 6, 'is' : 4, 'best' : 7} \n",
    "\n",
    "  \n",
    "# printing original dictionary \n",
    "\n",
    "print(\"The original dictionary : \" +  str(test_dict)) \n",
    "\n",
    "  \n",
    "# Using update() + dictionary comprehension \n",
    "# Perform operation on each key dictionary \n",
    "\n",
    "test_dict.update((x, y * 3) for x, y in test_dict.items()) \n",
    "\n",
    "  \n",
    "# printing result  \n",
    "\n",
    "print(\"The dictionary after triple each key's value : \" + str(test_dict))"
   ]
  },
  {
   "cell_type": "markdown",
   "metadata": {},
   "source": [
    "#Working with functions including recursive ones."
   ]
  },
  {
   "cell_type": "code",
   "execution_count": 11,
   "metadata": {},
   "outputs": [
    {
     "name": "stdout",
     "output_type": "stream",
     "text": [
      "\n",
      "\n",
      "Recursion Example Results\n",
      "1\n",
      "3\n",
      "6\n",
      "10\n",
      "15\n",
      "21\n"
     ]
    },
    {
     "data": {
      "text/plain": [
       "21"
      ]
     },
     "execution_count": 11,
     "metadata": {},
     "output_type": "execute_result"
    }
   ],
   "source": [
    "def tri_recursion(k):\n",
    "  if(k>0):\n",
    "    result = k+tri_recursion(k-1)\n",
    "    print(result)\n",
    "  else:\n",
    "    result = 0\n",
    "  return result\n",
    "\n",
    "print(\"\\n\\nRecursion Example Results\")\n",
    "tri_recursion(6)"
   ]
  },
  {
   "cell_type": "code",
   "execution_count": null,
   "metadata": {},
   "outputs": [],
   "source": []
  }
 ],
 "metadata": {
  "kernelspec": {
   "display_name": "Python 3",
   "language": "python",
   "name": "python3"
  },
  "language_info": {
   "codemirror_mode": {
    "name": "ipython",
    "version": 3
   },
   "file_extension": ".py",
   "mimetype": "text/x-python",
   "name": "python",
   "nbconvert_exporter": "python",
   "pygments_lexer": "ipython3",
   "version": "3.8.5"
  }
 },
 "nbformat": 4,
 "nbformat_minor": 4
}
